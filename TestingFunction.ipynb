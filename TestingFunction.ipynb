{
 "cells": [
  {
   "cell_type": "code",
   "execution_count": 1,
   "id": "964eb11e",
   "metadata": {},
   "outputs": [],
   "source": [
    "\"\"\"\n",
    "This module is an example of a barebones function plugin for napari\n",
    "\n",
    "It implements the ``napari_experimental_provide_function`` hook specification.\n",
    "see: https://napari.org/docs/dev/plugins/hook_specifications.html\n",
    "\n",
    "Replace code below according to your needs.\n",
    "\"\"\"\n",
    "\n",
    "import numpy as np\n",
    "import string\n",
    "from csv import reader\n",
    "\n",
    "def read_spots(gene: str = \"BATF\"):\n",
    "  #args = get_args()\n",
    "  #spots = args.spots\n",
    "  #gene = args.gene\n",
    "\n",
    "    with open('./spots_reduced.csv', 'r') as fh:\n",
    "        csv_reader = reader(fh)\n",
    "        header = next(csv_reader)\n",
    "        xc, yc = header.index('xc'), header.index('yc')\n",
    "        spot_coordinates = []\n",
    "      #print(f\"Header is: {header}\\nColumns of interest are: {header.index('x')}\")\n",
    "        i = 0\n",
    "        for row in csv_reader:\n",
    "        #i += 1\n",
    "          if row[header.index('target')] == gene:\n",
    "            i += 1\n",
    "          #print(row)\n",
    "            spot_coordinates.append([row[xc], row[yc]])\n",
    "\n",
    "    layer_data = (\n",
    "        np.array(spot_coordinates),\n",
    "          {\n",
    "            \"face_color\": \"magenta\",\n",
    "            \"symbol\": 'ring'\n",
    "            },\n",
    "        \"Points\"\n",
    "            )\n",
    "      #print(spot_coordinates[-1], i)\n",
    "      #print(f\"# of detected genes: {i}\")\n",
    "    return layer_data\n"
   ]
  },
  {
   "cell_type": "code",
   "execution_count": 2,
   "id": "fc5b01ad",
   "metadata": {},
   "outputs": [
    {
     "name": "stdout",
     "output_type": "stream",
     "text": [
      "(array([['1192.496873697374', '1341.5589829095456'],\n",
      "       ['2189.9124635264693', '1334.5560650270945'],\n",
      "       ['1272.5302209253855', '1210.5043768236765'],\n",
      "       ['2296.957065443935', '1136.4735306377656'],\n",
      "       ['2231.9299708211756', '1126.4693622342643'],\n",
      "       ['2220.925385577324', '1072.4468528553564'],\n",
      "       ['2239.9333055439765', '1038.4326802834514'],\n",
      "       ['2248.937057107128', '1027.4280950395998'],\n",
      "       ['2262.94289287203', '1012.4218424343476'],\n",
      "       ['2300.9587328053353', '956.3984993747395'],\n",
      "       ['2203.9182992913716', '873.3639016256774'],\n",
      "       ['2020.8420175072947', '870.3626511046269'],\n",
      "       ['2085.869112130054', '848.3534806169237'],\n",
      "       ['2080.8670279283033', '845.3522300958733'],\n",
      "       ['1887.7865777407253', '843.351396415173'],\n",
      "       ['2084.868695289704', '837.3488953730721'],\n",
      "       ['2131.8882867861607', '834.3476448520216'],\n",
      "       ['2033.8474364318465', '832.3468111713214'],\n",
      "       ['2149.8957899124634', '830.3459774906211'],\n",
      "       ['2237.9324718632765', '823.34305960817'],\n",
      "       ['1997.8324301792413', '809.337223843268'],\n",
      "       ['2006.8361817423927', '807.3363901625677'],\n",
      "       ['2172.905377240517', '788.328470195915'],\n",
      "       ['2017.8407669862443', '780.3251354731138'],\n",
      "       ['1962.8178407669861', '771.3213839099625'],\n",
      "       ['1958.8161734055857', '765.3188828678616'],\n",
      "       ['1957.8157565652355', '763.3180491871614'],\n",
      "       ['1884.7853272196749', '761.317215506461'],\n",
      "       ['1982.826177573989', '759.3163818257607'],\n",
      "       ['1985.8274280950395', '753.3138807836599'],\n",
      "       ['1912.796998749479', '748.3117965819091'],\n",
      "       ['2230.9295539808254', '744.3101292205085'],\n",
      "       ['2245.9358065860774', '741.3088786994581'],\n",
      "       ['2152.897040433514', '667.2780325135473'],\n",
      "       ['2088.8703626511046', '639.2663609837432'],\n",
      "       ['3936.640266777824', '2362.9845769070444'],\n",
      "       ['4015.6731971654854', '2267.9449770737806'],\n",
      "       ['4534.889537307212', '2144.8937057107128'],\n",
      "       ['4312.796998749479', '2075.8649437265526'],\n",
      "       ['4292.788661942476', '2011.8382659441434']], dtype='<U18'), {'face_color': 'magenta', 'symbol': 'ring'}, 'Points')\n"
     ]
    }
   ],
   "source": [
    "print(read_spots())"
   ]
  },
  {
   "cell_type": "code",
   "execution_count": null,
   "id": "a9a43f9a",
   "metadata": {},
   "outputs": [],
   "source": []
  }
 ],
 "metadata": {
  "kernelspec": {
   "display_name": "Python 3 (ipykernel)",
   "language": "python",
   "name": "python3"
  },
  "language_info": {
   "codemirror_mode": {
    "name": "ipython",
    "version": 3
   },
   "file_extension": ".py",
   "mimetype": "text/x-python",
   "name": "python",
   "nbconvert_exporter": "python",
   "pygments_lexer": "ipython3",
   "version": "3.8.10"
  }
 },
 "nbformat": 4,
 "nbformat_minor": 5
}
